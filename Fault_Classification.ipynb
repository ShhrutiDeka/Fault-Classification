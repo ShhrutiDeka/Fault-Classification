{
  "nbformat": 4,
  "nbformat_minor": 0,
  "metadata": {
    "colab": {
      "name": "Fault_Classification.ipynb",
      "provenance": [],
      "collapsed_sections": []
    },
    "kernelspec": {
      "name": "python3",
      "display_name": "Python 3"
    }
  },
  "cells": [
    {
      "cell_type": "code",
      "metadata": {
        "id": "3y2iVs3feiRu"
      },
      "source": [
        "import pandas as pd\r\n",
        "import numpy as np\r\n",
        "import matplotlib.pyplot as plt\r\n",
        "import seaborn as sns\r\n",
        "from sklearn.preprocessing import normalize, StandardScaler\r\n",
        "from sklearn.ensemble import RandomForestClassifier\r\n",
        "from sklearn.svm import SVC\r\n",
        "from sklearn.model_selection import KFold, cross_val_score\r\n",
        "from sklearn.metrics import roc_auc_score, roc_curve, f1_score, confusion_matrix, precision_recall_curve"
      ],
      "execution_count": 133,
      "outputs": []
    },
    {
      "cell_type": "code",
      "metadata": {
        "id": "uKZLYc8TflW6"
      },
      "source": [
        "#read csv\r\n",
        "data = pd.read_csv('/content/drive/MyDrive/prescinto Assignment/Fault_Classification_Assignment/Dataset_assignment.csv')"
      ],
      "execution_count": 2,
      "outputs": []
    },
    {
      "cell_type": "code",
      "metadata": {
        "colab": {
          "base_uri": "https://localhost:8080/",
          "height": 384
        },
        "id": "mfCpZ1TEfnPz",
        "outputId": "6c958494-a855-4b5d-bbab-36d68970104f"
      },
      "source": [
        "#################################### data exploration ################################\r\n",
        "data.head()"
      ],
      "execution_count": null,
      "outputs": [
        {
          "output_type": "execute_result",
          "data": {
            "text/html": [
              "<div>\n",
              "<style scoped>\n",
              "    .dataframe tbody tr th:only-of-type {\n",
              "        vertical-align: middle;\n",
              "    }\n",
              "\n",
              "    .dataframe tbody tr th {\n",
              "        vertical-align: top;\n",
              "    }\n",
              "\n",
              "    .dataframe thead th {\n",
              "        text-align: right;\n",
              "    }\n",
              "</style>\n",
              "<table border=\"1\" class=\"dataframe\">\n",
              "  <thead>\n",
              "    <tr style=\"text-align: right;\">\n",
              "      <th></th>\n",
              "      <th>date_time</th>\n",
              "      <th>device_id</th>\n",
              "      <th>factor1</th>\n",
              "      <th>factor2</th>\n",
              "      <th>factor3</th>\n",
              "      <th>factor4</th>\n",
              "      <th>factor5</th>\n",
              "      <th>factor6</th>\n",
              "      <th>factor7</th>\n",
              "      <th>fault_name</th>\n",
              "      <th>fault_class</th>\n",
              "    </tr>\n",
              "  </thead>\n",
              "  <tbody>\n",
              "    <tr>\n",
              "      <th>0</th>\n",
              "      <td>18-01-2018 08:00</td>\n",
              "      <td>1</td>\n",
              "      <td>27.2</td>\n",
              "      <td>60.0</td>\n",
              "      <td>39.5</td>\n",
              "      <td>706.1</td>\n",
              "      <td>172.800000</td>\n",
              "      <td>8.2</td>\n",
              "      <td>0.0</td>\n",
              "      <td>Inverter Status Alarm</td>\n",
              "      <td>no</td>\n",
              "    </tr>\n",
              "    <tr>\n",
              "      <th>1</th>\n",
              "      <td>18-01-2018 17:15</td>\n",
              "      <td>1</td>\n",
              "      <td>26.2</td>\n",
              "      <td>101.0</td>\n",
              "      <td>37.4</td>\n",
              "      <td>736.2</td>\n",
              "      <td>169.633333</td>\n",
              "      <td>20.6</td>\n",
              "      <td>0.0</td>\n",
              "      <td>Inverter Status Alarm</td>\n",
              "      <td>no</td>\n",
              "    </tr>\n",
              "    <tr>\n",
              "      <th>2</th>\n",
              "      <td>19-01-2018 08:30</td>\n",
              "      <td>1</td>\n",
              "      <td>31.3</td>\n",
              "      <td>55.0</td>\n",
              "      <td>45.9</td>\n",
              "      <td>720.0</td>\n",
              "      <td>172.700000</td>\n",
              "      <td>7.7</td>\n",
              "      <td>1.0</td>\n",
              "      <td>Inverter Status Alarm</td>\n",
              "      <td>no</td>\n",
              "    </tr>\n",
              "    <tr>\n",
              "      <th>3</th>\n",
              "      <td>19-01-2018 17:15</td>\n",
              "      <td>1</td>\n",
              "      <td>31.3</td>\n",
              "      <td>114.0</td>\n",
              "      <td>43.3</td>\n",
              "      <td>764.4</td>\n",
              "      <td>170.900000</td>\n",
              "      <td>18.8</td>\n",
              "      <td>1.0</td>\n",
              "      <td>Inverter Status Alarm</td>\n",
              "      <td>no</td>\n",
              "    </tr>\n",
              "    <tr>\n",
              "      <th>4</th>\n",
              "      <td>19-01-2018 17:30</td>\n",
              "      <td>1</td>\n",
              "      <td>15.5</td>\n",
              "      <td>54.0</td>\n",
              "      <td>24.0</td>\n",
              "      <td>684.8</td>\n",
              "      <td>170.466667</td>\n",
              "      <td>17.0</td>\n",
              "      <td>1.0</td>\n",
              "      <td>Inverter Status Alarm</td>\n",
              "      <td>no</td>\n",
              "    </tr>\n",
              "  </tbody>\n",
              "</table>\n",
              "</div>"
            ],
            "text/plain": [
              "          date_time  device_id  ...             fault_name  fault_class\n",
              "0  18-01-2018 08:00          1  ...  Inverter Status Alarm           no\n",
              "1  18-01-2018 17:15          1  ...  Inverter Status Alarm           no\n",
              "2  19-01-2018 08:30          1  ...  Inverter Status Alarm           no\n",
              "3  19-01-2018 17:15          1  ...  Inverter Status Alarm           no\n",
              "4  19-01-2018 17:30          1  ...  Inverter Status Alarm           no\n",
              "\n",
              "[5 rows x 11 columns]"
            ]
          },
          "metadata": {
            "tags": []
          },
          "execution_count": 3
        }
      ]
    },
    {
      "cell_type": "code",
      "metadata": {
        "colab": {
          "base_uri": "https://localhost:8080/"
        },
        "id": "tvajQAGvgDmX",
        "outputId": "94a9fb33-2f6e-4dd5-d4ba-6a64a482da35"
      },
      "source": [
        "data.info()"
      ],
      "execution_count": null,
      "outputs": [
        {
          "output_type": "stream",
          "text": [
            "<class 'pandas.core.frame.DataFrame'>\n",
            "RangeIndex: 9129 entries, 0 to 9128\n",
            "Data columns (total 11 columns):\n",
            " #   Column       Non-Null Count  Dtype  \n",
            "---  ------       --------------  -----  \n",
            " 0   date_time    9129 non-null   object \n",
            " 1   device_id    9129 non-null   int64  \n",
            " 2   factor1      9129 non-null   float64\n",
            " 3   factor2      9129 non-null   float64\n",
            " 4   factor3      9129 non-null   float64\n",
            " 5   factor4      9129 non-null   float64\n",
            " 6   factor5      9129 non-null   float64\n",
            " 7   factor6      9129 non-null   float64\n",
            " 8   factor7      9129 non-null   float64\n",
            " 9   fault_name   9129 non-null   object \n",
            " 10  fault_class  9129 non-null   object \n",
            "dtypes: float64(7), int64(1), object(3)\n",
            "memory usage: 784.6+ KB\n"
          ],
          "name": "stdout"
        }
      ]
    },
    {
      "cell_type": "markdown",
      "metadata": {
        "id": "zqpF_rb9gdug"
      },
      "source": [
        "No Null values in the columns\r\n",
        "\r\n",
        "3 string (object) columns\r\n",
        "\r\n",
        "-date_time will need to be broken down\r\n"
      ]
    },
    {
      "cell_type": "code",
      "metadata": {
        "colab": {
          "base_uri": "https://localhost:8080/"
        },
        "id": "fiuIqodvgPj9",
        "outputId": "2c893adb-545c-4349-acd5-6fbecff7e1a4"
      },
      "source": [
        "#Count the unique values of the columns\r\n",
        "for col in ['device_id', 'fault_name', 'fault_class']:\r\n",
        "  print('Unique values in',col, ': ', data[col].nunique())"
      ],
      "execution_count": null,
      "outputs": [
        {
          "output_type": "stream",
          "text": [
            "Unique values in device_id :  14\n",
            "Unique values in fault_name :  11\n",
            "Unique values in fault_class :  2\n"
          ],
          "name": "stdout"
        }
      ]
    },
    {
      "cell_type": "code",
      "metadata": {
        "colab": {
          "base_uri": "https://localhost:8080/"
        },
        "id": "cQC-QF94gb4p",
        "outputId": "a7929875-9bf0-44a4-db90-c4d4975066c1"
      },
      "source": [
        "np.unique(data['fault_name']) "
      ],
      "execution_count": null,
      "outputs": [
        {
          "output_type": "execute_result",
          "data": {
            "text/plain": [
              "array(['Inverter Error Status Alarm', 'Inverter Status Alarm',\n",
              "       'Invertrer DC Status', 'Message Faukt 1', 'Message Fault 1',\n",
              "       'Message Fault 2', 'Message Fault 3', 'Message Fault 4',\n",
              "       'Message Fault 5', 'Message Fault 6', 'Message Fault 7'],\n",
              "      dtype=object)"
            ]
          },
          "metadata": {
            "tags": []
          },
          "execution_count": 11
        }
      ]
    },
    {
      "cell_type": "markdown",
      "metadata": {
        "id": "zasQi9sHix7u"
      },
      "source": [
        "Message Faukt 1 and Message Fault 1 seem to be the same (with typo in one)"
      ]
    },
    {
      "cell_type": "code",
      "metadata": {
        "colab": {
          "base_uri": "https://localhost:8080/"
        },
        "id": "tPFFrlj3h8rG",
        "outputId": "f2b9e70c-933c-444f-d1b8-5f12d1bb1534"
      },
      "source": [
        "#look at values in 'fault_name' where fault_class= 'no'\r\n",
        "np.unique(data[data['fault_class'] == 'no']['fault_name'])"
      ],
      "execution_count": null,
      "outputs": [
        {
          "output_type": "execute_result",
          "data": {
            "text/plain": [
              "array(['Inverter Error Status Alarm', 'Inverter Status Alarm',\n",
              "       'Invertrer DC Status', 'Message Faukt 1', 'Message Fault 1',\n",
              "       'Message Fault 2', 'Message Fault 3', 'Message Fault 4',\n",
              "       'Message Fault 5', 'Message Fault 6', 'Message Fault 7'],\n",
              "      dtype=object)"
            ]
          },
          "metadata": {
            "tags": []
          },
          "execution_count": 13
        }
      ]
    },
    {
      "cell_type": "markdown",
      "metadata": {
        "id": "fKH318XBHVSu"
      },
      "source": [
        "We will ignore **fault_name** column"
      ]
    },
    {
      "cell_type": "code",
      "metadata": {
        "id": "VAvDPPTAg4IW"
      },
      "source": [
        "#convert date_time to datetime\r\n",
        "data_new = data.copy()\r\n",
        "data_new['date_time'] = pd.to_datetime(data_new['date_time'])\r\n",
        "data_new = data_new.set_index(['date_time'])\r\n",
        "data_new = data_new.resample('1d').mean()"
      ],
      "execution_count": 23,
      "outputs": []
    },
    {
      "cell_type": "code",
      "metadata": {
        "colab": {
          "base_uri": "https://localhost:8080/"
        },
        "id": "1rsgVg5dnHD8",
        "outputId": "c6274e8c-a0de-4f06-9f4a-fee86fc56e12"
      },
      "source": [
        "#see range of date\r\n",
        "print(data_new.index[0], data_new.index[data_new.shape[0]-1])"
      ],
      "execution_count": 24,
      "outputs": [
        {
          "output_type": "stream",
          "text": [
            "2018-01-02 00:00:00 2020-12-11 00:00:00\n"
          ],
          "name": "stdout"
        }
      ]
    },
    {
      "cell_type": "markdown",
      "metadata": {
        "id": "kaH26xizngqV"
      },
      "source": [
        "35 months worth of data\r\n",
        "\r\n",
        "\r\n"
      ]
    },
    {
      "cell_type": "code",
      "metadata": {
        "id": "ArGS5AIb6ULU"
      },
      "source": [
        "#normalize data_new before seeing correlation\r\n",
        "data_new = pd.DataFrame(normalize(data_new.dropna()), columns = data_new.columns)"
      ],
      "execution_count": 25,
      "outputs": []
    },
    {
      "cell_type": "code",
      "metadata": {
        "colab": {
          "base_uri": "https://localhost:8080/",
          "height": 106
        },
        "id": "Kt7cx3wyC_GA",
        "outputId": "80e5f3c9-6fcc-48c0-e2d1-7cb393b456d1"
      },
      "source": [
        "data_new.head(2)"
      ],
      "execution_count": 26,
      "outputs": [
        {
          "output_type": "execute_result",
          "data": {
            "text/html": [
              "<div>\n",
              "<style scoped>\n",
              "    .dataframe tbody tr th:only-of-type {\n",
              "        vertical-align: middle;\n",
              "    }\n",
              "\n",
              "    .dataframe tbody tr th {\n",
              "        vertical-align: top;\n",
              "    }\n",
              "\n",
              "    .dataframe thead th {\n",
              "        text-align: right;\n",
              "    }\n",
              "</style>\n",
              "<table border=\"1\" class=\"dataframe\">\n",
              "  <thead>\n",
              "    <tr style=\"text-align: right;\">\n",
              "      <th></th>\n",
              "      <th>device_id</th>\n",
              "      <th>factor1</th>\n",
              "      <th>factor2</th>\n",
              "      <th>factor3</th>\n",
              "      <th>factor4</th>\n",
              "      <th>factor5</th>\n",
              "      <th>factor6</th>\n",
              "      <th>factor7</th>\n",
              "    </tr>\n",
              "  </thead>\n",
              "  <tbody>\n",
              "    <tr>\n",
              "      <th>0</th>\n",
              "      <td>0.010878</td>\n",
              "      <td>0.028227</td>\n",
              "      <td>0.102582</td>\n",
              "      <td>0.043814</td>\n",
              "      <td>0.964355</td>\n",
              "      <td>0.236807</td>\n",
              "      <td>0.024138</td>\n",
              "      <td>0.001102</td>\n",
              "    </tr>\n",
              "    <tr>\n",
              "      <th>1</th>\n",
              "      <td>0.011346</td>\n",
              "      <td>0.040613</td>\n",
              "      <td>0.078579</td>\n",
              "      <td>0.066141</td>\n",
              "      <td>0.959332</td>\n",
              "      <td>0.258329</td>\n",
              "      <td>0.024918</td>\n",
              "      <td>0.000420</td>\n",
              "    </tr>\n",
              "  </tbody>\n",
              "</table>\n",
              "</div>"
            ],
            "text/plain": [
              "   device_id   factor1   factor2  ...   factor5   factor6   factor7\n",
              "0   0.010878  0.028227  0.102582  ...  0.236807  0.024138  0.001102\n",
              "1   0.011346  0.040613  0.078579  ...  0.258329  0.024918  0.000420\n",
              "\n",
              "[2 rows x 8 columns]"
            ]
          },
          "metadata": {
            "tags": []
          },
          "execution_count": 26
        }
      ]
    },
    {
      "cell_type": "code",
      "metadata": {
        "colab": {
          "base_uri": "https://localhost:8080/",
          "height": 1000
        },
        "id": "EPdiXHkFnu9u",
        "outputId": "d5ff62cf-843d-4f86-ac3e-0fdbb869456a"
      },
      "source": [
        "#view the data distribution\r\n",
        "for col in data_new.columns:\r\n",
        "  print(col)\r\n",
        "  data_new[col].plot()\r\n",
        "  plt.show()"
      ],
      "execution_count": 11,
      "outputs": [
        {
          "output_type": "stream",
          "text": [
            "0\n"
          ],
          "name": "stdout"
        },
        {
          "output_type": "display_data",
          "data": {
            "image/png": "[encoded data removed]",
            "text/plain": [
              "<Figure size 432x288 with 1 Axes>"
            ]
          },
          "metadata": {
            "tags": [],
            "needs_background": "light"
          }
        },
        {
          "output_type": "stream",
          "text": [
            "1\n"
          ],
          "name": "stdout"
        },
        {
          "output_type": "display_data",
          "data": {
            "image/png": "[encoded data removed]",
            "text/plain": [
              "<Figure size 432x288 with 1 Axes>"
            ]
          },
          "metadata": {
            "tags": [],
            "needs_background": "light"
          }
        },
        {
          "output_type": "stream",
          "text": [
            "2\n"
          ],
          "name": "stdout"
        },
        {
          "output_type": "display_data",
          "data": {
            "image/png": "[encoded data removed]",
            "text/plain": [
              "<Figure size 432x288 with 1 Axes>"
            ]
          },
          "metadata": {
            "tags": [],
            "needs_background": "light"
          }
        },
        {
          "output_type": "stream",
          "text": [
            "3\n"
          ],
          "name": "stdout"
        },
        {
          "output_type": "display_data",
          "data": {
            "image/png": "[encoded data removed]",
            "text/plain": [
              "<Figure size 432x288 with 1 Axes>"
            ]
          },
          "metadata": {
            "tags": [],
            "needs_background": "light"
          }
        },
        {
          "output_type": "stream",
          "text": [
            "4\n"
          ],
          "name": "stdout"
        },
        {
          "output_type": "display_data",
          "data": {
            "image/png": "[encoded data removed]",
            "text/plain": [
              "<Figure size 432x288 with 1 Axes>"
            ]
          },
          "metadata": {
            "tags": [],
            "needs_background": "light"
          }
        },
        {
          "output_type": "stream",
          "text": [
            "5\n"
          ],
          "name": "stdout"
        },
        {
          "output_type": "display_data",
          "data": {
            "image/png": "[encoded data removed]",
            "text/plain": [
              "<Figure size 432x288 with 1 Axes>"
            ]
          },
          "metadata": {
            "tags": [],
            "needs_background": "light"
          }
        },
        {
          "output_type": "stream",
          "text": [
            "6\n"
          ],
          "name": "stdout"
        },
        {
          "output_type": "display_data",
          "data": {
            "image/png": "[encoded data removed]",
            "text/plain": [
              "<Figure size 432x288 with 1 Axes>"
            ]
          },
          "metadata": {
            "tags": [],
            "needs_background": "light"
          }
        },
        {
          "output_type": "stream",
          "text": [
            "7\n"
          ],
          "name": "stdout"
        },
        {
          "output_type": "display_data",
          "data": {
            "image/png": "[encoded data removed]",
            "text/plain": [
              "<Figure size 432x288 with 1 Axes>"
            ]
          },
          "metadata": {
            "tags": [],
            "needs_background": "light"
          }
        }
      ]
    },
    {
      "cell_type": "code",
      "metadata": {
        "colab": {
          "base_uri": "https://localhost:8080/",
          "height": 323
        },
        "id": "kp1Y_3vCrxod",
        "outputId": "66b4ea47-b5bf-45ca-b93f-4d077340b48d"
      },
      "source": [
        "#see heatmap\r\n",
        "sns.heatmap(data_new.corr()>0.7) #only significant correlation"
      ],
      "execution_count": 32,
      "outputs": [
        {
          "output_type": "execute_result",
          "data": {
            "text/plain": [
              "<matplotlib.axes._subplots.AxesSubplot at 0x7f008c4a07f0>"
            ]
          },
          "metadata": {
            "tags": []
          },
          "execution_count": 32
        },
        {
          "output_type": "display_data",
          "data": {
            "image/png": "[encoded data removed]",
            "text/plain": [
              "<Figure size 432x288 with 2 Axes>"
            ]
          },
          "metadata": {
            "tags": [],
            "needs_background": "light"
          }
        }
      ]
    },
    {
      "cell_type": "markdown",
      "metadata": {
        "id": "N_jYvRsk3hQN"
      },
      "source": [
        "**factor1 , factor2 , factor3**  are correlated and will need to be dealt with. Multicolinearity is not desirable.\r\n",
        "\r\n",
        "**factor4 and factor5** are also quite closely related."
      ]
    },
    {
      "cell_type": "code",
      "metadata": {
        "id": "I_YbA_BQ46c6"
      },
      "source": [
        "#encode our target class variable into 0/1 to better see the correlation with all columns\r\n",
        "data['class'] = [0]*data.shape[0]\r\n",
        "data.loc[data['fault_class']== 'no', 'class'] = 0\r\n",
        "data.loc[data['fault_class']== 'yes', 'class'] = 1\r\n"
      ],
      "execution_count": 33,
      "outputs": []
    },
    {
      "cell_type": "code",
      "metadata": {
        "colab": {
          "base_uri": "https://localhost:8080/",
          "height": 195
        },
        "id": "lVuE_yca5Ses",
        "outputId": "6ce7f800-8479-408b-d756-3ddc8b334459"
      },
      "source": [
        "data.head()"
      ],
      "execution_count": null,
      "outputs": [
        {
          "output_type": "execute_result",
          "data": {
            "text/html": [
              "<div>\n",
              "<style scoped>\n",
              "    .dataframe tbody tr th:only-of-type {\n",
              "        vertical-align: middle;\n",
              "    }\n",
              "\n",
              "    .dataframe tbody tr th {\n",
              "        vertical-align: top;\n",
              "    }\n",
              "\n",
              "    .dataframe thead th {\n",
              "        text-align: right;\n",
              "    }\n",
              "</style>\n",
              "<table border=\"1\" class=\"dataframe\">\n",
              "  <thead>\n",
              "    <tr style=\"text-align: right;\">\n",
              "      <th></th>\n",
              "      <th>date_time</th>\n",
              "      <th>device_id</th>\n",
              "      <th>factor1</th>\n",
              "      <th>factor2</th>\n",
              "      <th>factor3</th>\n",
              "      <th>factor4</th>\n",
              "      <th>factor5</th>\n",
              "      <th>factor6</th>\n",
              "      <th>factor7</th>\n",
              "      <th>fault_name</th>\n",
              "      <th>fault_class</th>\n",
              "      <th>class</th>\n",
              "    </tr>\n",
              "  </thead>\n",
              "  <tbody>\n",
              "    <tr>\n",
              "      <th>0</th>\n",
              "      <td>18-01-2018 08:00</td>\n",
              "      <td>1</td>\n",
              "      <td>27.2</td>\n",
              "      <td>60.0</td>\n",
              "      <td>39.5</td>\n",
              "      <td>706.1</td>\n",
              "      <td>172.800000</td>\n",
              "      <td>8.2</td>\n",
              "      <td>0.0</td>\n",
              "      <td>Inverter Status Alarm</td>\n",
              "      <td>no</td>\n",
              "      <td>0</td>\n",
              "    </tr>\n",
              "    <tr>\n",
              "      <th>1</th>\n",
              "      <td>18-01-2018 17:15</td>\n",
              "      <td>1</td>\n",
              "      <td>26.2</td>\n",
              "      <td>101.0</td>\n",
              "      <td>37.4</td>\n",
              "      <td>736.2</td>\n",
              "      <td>169.633333</td>\n",
              "      <td>20.6</td>\n",
              "      <td>0.0</td>\n",
              "      <td>Inverter Status Alarm</td>\n",
              "      <td>no</td>\n",
              "      <td>0</td>\n",
              "    </tr>\n",
              "    <tr>\n",
              "      <th>2</th>\n",
              "      <td>19-01-2018 08:30</td>\n",
              "      <td>1</td>\n",
              "      <td>31.3</td>\n",
              "      <td>55.0</td>\n",
              "      <td>45.9</td>\n",
              "      <td>720.0</td>\n",
              "      <td>172.700000</td>\n",
              "      <td>7.7</td>\n",
              "      <td>1.0</td>\n",
              "      <td>Inverter Status Alarm</td>\n",
              "      <td>no</td>\n",
              "      <td>0</td>\n",
              "    </tr>\n",
              "    <tr>\n",
              "      <th>3</th>\n",
              "      <td>19-01-2018 17:15</td>\n",
              "      <td>1</td>\n",
              "      <td>31.3</td>\n",
              "      <td>114.0</td>\n",
              "      <td>43.3</td>\n",
              "      <td>764.4</td>\n",
              "      <td>170.900000</td>\n",
              "      <td>18.8</td>\n",
              "      <td>1.0</td>\n",
              "      <td>Inverter Status Alarm</td>\n",
              "      <td>no</td>\n",
              "      <td>0</td>\n",
              "    </tr>\n",
              "    <tr>\n",
              "      <th>4</th>\n",
              "      <td>19-01-2018 17:30</td>\n",
              "      <td>1</td>\n",
              "      <td>15.5</td>\n",
              "      <td>54.0</td>\n",
              "      <td>24.0</td>\n",
              "      <td>684.8</td>\n",
              "      <td>170.466667</td>\n",
              "      <td>17.0</td>\n",
              "      <td>1.0</td>\n",
              "      <td>Inverter Status Alarm</td>\n",
              "      <td>no</td>\n",
              "      <td>0</td>\n",
              "    </tr>\n",
              "  </tbody>\n",
              "</table>\n",
              "</div>"
            ],
            "text/plain": [
              "          date_time  device_id  ...  fault_class  class\n",
              "0  18-01-2018 08:00          1  ...           no      0\n",
              "1  18-01-2018 17:15          1  ...           no      0\n",
              "2  19-01-2018 08:30          1  ...           no      0\n",
              "3  19-01-2018 17:15          1  ...           no      0\n",
              "4  19-01-2018 17:30          1  ...           no      0\n",
              "\n",
              "[5 rows x 12 columns]"
            ]
          },
          "metadata": {
            "tags": []
          },
          "execution_count": 12
        }
      ]
    },
    {
      "cell_type": "code",
      "metadata": {
        "colab": {
          "base_uri": "https://localhost:8080/",
          "height": 323
        },
        "id": "wuj6DTee5-jO",
        "outputId": "c31815fa-92c7-4e28-da5b-9f1838fb4df6"
      },
      "source": [
        "sns.heatmap(data.corr()>0.7)"
      ],
      "execution_count": 34,
      "outputs": [
        {
          "output_type": "execute_result",
          "data": {
            "text/plain": [
              "<matplotlib.axes._subplots.AxesSubplot at 0x7f00951a1f28>"
            ]
          },
          "metadata": {
            "tags": []
          },
          "execution_count": 34
        },
        {
          "output_type": "display_data",
          "data": {
            "image/png": "[encoded data removed]",
            "text/plain": [
              "<Figure size 432x288 with 2 Axes>"
            ]
          },
          "metadata": {
            "tags": [],
            "needs_background": "light"
          }
        }
      ]
    },
    {
      "cell_type": "markdown",
      "metadata": {
        "id": "N8gUUwdX6LwO"
      },
      "source": [
        "No linear relationship between fault_class and the rest of the columns.\r\n",
        "\r\n",
        "So there could be a non-linear relationship between them."
      ]
    },
    {
      "cell_type": "code",
      "metadata": {
        "colab": {
          "base_uri": "https://localhost:8080/",
          "height": 282
        },
        "id": "YwqiDTQT8qq9",
        "outputId": "8a05db40-32f1-4034-b32a-9247cf8653f6"
      },
      "source": [
        "#see distribution of target class\r\n",
        "data['class'].hist()"
      ],
      "execution_count": 35,
      "outputs": [
        {
          "output_type": "execute_result",
          "data": {
            "text/plain": [
              "<matplotlib.axes._subplots.AxesSubplot at 0x7f009595f898>"
            ]
          },
          "metadata": {
            "tags": []
          },
          "execution_count": 35
        },
        {
          "output_type": "display_data",
          "data": {
            "image/png": "[encoded data removed]",
            "text/plain": [
              "<Figure size 432x288 with 1 Axes>"
            ]
          },
          "metadata": {
            "tags": [],
            "needs_background": "light"
          }
        }
      ]
    },
    {
      "cell_type": "markdown",
      "metadata": {
        "id": "uvJzBFua8027"
      },
      "source": [
        "Imbalanced data- 'no' fault class is very high in number"
      ]
    },
    {
      "cell_type": "code",
      "metadata": {
        "colab": {
          "base_uri": "https://localhost:8080/"
        },
        "id": "Ffk3RH7Y86SU",
        "outputId": "98ea7e14-e7e3-4fa6-b098-bbb161f52b7f"
      },
      "source": [
        "#find ratio of classes\r\n",
        "n = len(data[data['class'] == 0])\r\n",
        "y = data.shape[0] - n\r\n",
        "ratio = np.float(n//y).as_integer_ratio()\r\n",
        "print(\"Ratio of classes No:Yes = \", ratio)"
      ],
      "execution_count": null,
      "outputs": [
        {
          "output_type": "stream",
          "text": [
            "Ratio of classes No:Yes =  (5, 1)\n"
          ],
          "name": "stdout"
        }
      ]
    },
    {
      "cell_type": "markdown",
      "metadata": {
        "id": "JktQNglZ_lRi"
      },
      "source": [
        "*********** BASE MODEL ****************"
      ]
    },
    {
      "cell_type": "code",
      "metadata": {
        "id": "FbkXcSZMFhak"
      },
      "source": [
        "new_data = data[['factor1', 'factor2', 'factor3', 'factor4', 'factor5', 'factor6', 'factor7', 'fault_class']]"
      ],
      "execution_count": 36,
      "outputs": []
    },
    {
      "cell_type": "code",
      "metadata": {
        "id": "F1b2hdKv7PZG"
      },
      "source": [
        "#standardize values in data\r\n",
        "sc = StandardScaler()\r\n",
        "new_data_norm = pd.DataFrame(sc.fit_transform(new_data.iloc[:, 0:-1]), columns = new_data.columns[0:-1])"
      ],
      "execution_count": 38,
      "outputs": []
    },
    {
      "cell_type": "code",
      "metadata": {
        "colab": {
          "base_uri": "https://localhost:8080/",
          "height": 136
        },
        "id": "sQ8glte8IxmC",
        "outputId": "0de7e3a3-be16-459f-c57f-c030c0f263ef"
      },
      "source": [
        "new_data_norm.head(3)"
      ],
      "execution_count": 39,
      "outputs": [
        {
          "output_type": "execute_result",
          "data": {
            "text/html": [
              "<div>\n",
              "<style scoped>\n",
              "    .dataframe tbody tr th:only-of-type {\n",
              "        vertical-align: middle;\n",
              "    }\n",
              "\n",
              "    .dataframe tbody tr th {\n",
              "        vertical-align: top;\n",
              "    }\n",
              "\n",
              "    .dataframe thead th {\n",
              "        text-align: right;\n",
              "    }\n",
              "</style>\n",
              "<table border=\"1\" class=\"dataframe\">\n",
              "  <thead>\n",
              "    <tr style=\"text-align: right;\">\n",
              "      <th></th>\n",
              "      <th>factor1</th>\n",
              "      <th>factor2</th>\n",
              "      <th>factor3</th>\n",
              "      <th>factor4</th>\n",
              "      <th>factor5</th>\n",
              "      <th>factor6</th>\n",
              "      <th>factor7</th>\n",
              "    </tr>\n",
              "  </thead>\n",
              "  <tbody>\n",
              "    <tr>\n",
              "      <th>0</th>\n",
              "      <td>-0.273384</td>\n",
              "      <td>-0.432650</td>\n",
              "      <td>-0.295343</td>\n",
              "      <td>0.399215</td>\n",
              "      <td>0.202022</td>\n",
              "      <td>-1.327922</td>\n",
              "      <td>-1.211180</td>\n",
              "    </tr>\n",
              "    <tr>\n",
              "      <th>1</th>\n",
              "      <td>-0.283310</td>\n",
              "      <td>-0.245807</td>\n",
              "      <td>-0.308211</td>\n",
              "      <td>0.800724</td>\n",
              "      <td>-0.110524</td>\n",
              "      <td>-0.074149</td>\n",
              "      <td>-1.211180</td>\n",
              "    </tr>\n",
              "    <tr>\n",
              "      <th>2</th>\n",
              "      <td>-0.232687</td>\n",
              "      <td>-0.455436</td>\n",
              "      <td>-0.256127</td>\n",
              "      <td>0.584630</td>\n",
              "      <td>0.192152</td>\n",
              "      <td>-1.378478</td>\n",
              "      <td>-0.006353</td>\n",
              "    </tr>\n",
              "  </tbody>\n",
              "</table>\n",
              "</div>"
            ],
            "text/plain": [
              "    factor1   factor2   factor3   factor4   factor5   factor6   factor7\n",
              "0 -0.273384 -0.432650 -0.295343  0.399215  0.202022 -1.327922 -1.211180\n",
              "1 -0.283310 -0.245807 -0.308211  0.800724 -0.110524 -0.074149 -1.211180\n",
              "2 -0.232687 -0.455436 -0.256127  0.584630  0.192152 -1.378478 -0.006353"
            ]
          },
          "metadata": {
            "tags": []
          },
          "execution_count": 39
        }
      ]
    },
    {
      "cell_type": "code",
      "metadata": {
        "colab": {
          "base_uri": "https://localhost:8080/"
        },
        "id": "rs5UsMrd_dhk",
        "outputId": "7875fe2d-91d1-45f8-b296-096b81222f95"
      },
      "source": [
        "#random forest and look at feature importance\r\n",
        "\r\n",
        "rf = RandomForestClassifier(n_estimators = 100)\r\n",
        "rf.fit(new_data_norm, data.iloc[:, -1])\r\n",
        "rf.feature_importances_"
      ],
      "execution_count": 40,
      "outputs": [
        {
          "output_type": "execute_result",
          "data": {
            "text/plain": [
              "array([0.45235579, 0.01146584, 0.35056682, 0.17912287, 0.00308446,\n",
              "       0.00266471, 0.00073951])"
            ]
          },
          "metadata": {
            "tags": []
          },
          "execution_count": 40
        }
      ]
    },
    {
      "cell_type": "markdown",
      "metadata": {
        "id": "l4rlMZGaG4ym"
      },
      "source": [
        "Features that are important: **factor1, factor3, factor4**"
      ]
    },
    {
      "cell_type": "markdown",
      "metadata": {
        "id": "0KVlxwjOJyu0"
      },
      "source": [
        "---------------------------------------------------------------------"
      ]
    },
    {
      "cell_type": "code",
      "metadata": {
        "colab": {
          "base_uri": "https://localhost:8080/",
          "height": 338
        },
        "id": "04TReCesHTT1",
        "outputId": "d56ef8b6-9df7-4b68-f07c-a8c19c2d4d65"
      },
      "source": [
        "#feature extraction from date_time and see feature importance again\r\n",
        "\r\n",
        "new_data['minute'] = pd.to_datetime(data['date_time']).dt.minute\r\n",
        "new_data['hour'] = pd.to_datetime(data['date_time']).dt.hour\r\n",
        "new_data['day'] = pd.to_datetime(data['date_time']).dt.day\r\n",
        "new_data['month'] = pd.to_datetime(data['date_time']).dt.month\r\n",
        "new_data['year'] = pd.to_datetime(data['date_time']).dt.year   \r\n",
        "\r\n",
        "new_data.head(3)"
      ],
      "execution_count": null,
      "outputs": [
        {
          "output_type": "stream",
          "text": [
            "/usr/local/lib/python3.6/dist-packages/ipykernel_launcher.py:3: SettingWithCopyWarning: \n",
            "A value is trying to be set on a copy of a slice from a DataFrame.\n",
            "Try using .loc[row_indexer,col_indexer] = value instead\n",
            "\n",
            "See the caveats in the documentation: https://pandas.pydata.org/pandas-docs/stable/user_guide/indexing.html#returning-a-view-versus-a-copy\n",
            "  This is separate from the ipykernel package so we can avoid doing imports until\n",
            "/usr/local/lib/python3.6/dist-packages/ipykernel_launcher.py:4: SettingWithCopyWarning: \n",
            "A value is trying to be set on a copy of a slice from a DataFrame.\n",
            "Try using .loc[row_indexer,col_indexer] = value instead\n",
            "\n",
            "See the caveats in the documentation: https://pandas.pydata.org/pandas-docs/stable/user_guide/indexing.html#returning-a-view-versus-a-copy\n",
            "  after removing the cwd from sys.path.\n"
          ],
          "name": "stderr"
        },
        {
          "output_type": "execute_result",
          "data": {
            "text/html": [
              "<div>\n",
              "<style scoped>\n",
              "    .dataframe tbody tr th:only-of-type {\n",
              "        vertical-align: middle;\n",
              "    }\n",
              "\n",
              "    .dataframe tbody tr th {\n",
              "        vertical-align: top;\n",
              "    }\n",
              "\n",
              "    .dataframe thead th {\n",
              "        text-align: right;\n",
              "    }\n",
              "</style>\n",
              "<table border=\"1\" class=\"dataframe\">\n",
              "  <thead>\n",
              "    <tr style=\"text-align: right;\">\n",
              "      <th></th>\n",
              "      <th>factor1</th>\n",
              "      <th>factor2</th>\n",
              "      <th>factor3</th>\n",
              "      <th>factor4</th>\n",
              "      <th>factor5</th>\n",
              "      <th>factor6</th>\n",
              "      <th>factor7</th>\n",
              "      <th>fault_class</th>\n",
              "      <th>minute</th>\n",
              "      <th>hour</th>\n",
              "      <th>day</th>\n",
              "      <th>month</th>\n",
              "      <th>year</th>\n",
              "    </tr>\n",
              "  </thead>\n",
              "  <tbody>\n",
              "    <tr>\n",
              "      <th>0</th>\n",
              "      <td>27.2</td>\n",
              "      <td>60.0</td>\n",
              "      <td>39.5</td>\n",
              "      <td>706.1</td>\n",
              "      <td>172.800000</td>\n",
              "      <td>8.2</td>\n",
              "      <td>0.0</td>\n",
              "      <td>no</td>\n",
              "      <td>0</td>\n",
              "      <td>8</td>\n",
              "      <td>18</td>\n",
              "      <td>1</td>\n",
              "      <td>2018</td>\n",
              "    </tr>\n",
              "    <tr>\n",
              "      <th>1</th>\n",
              "      <td>26.2</td>\n",
              "      <td>101.0</td>\n",
              "      <td>37.4</td>\n",
              "      <td>736.2</td>\n",
              "      <td>169.633333</td>\n",
              "      <td>20.6</td>\n",
              "      <td>0.0</td>\n",
              "      <td>no</td>\n",
              "      <td>15</td>\n",
              "      <td>17</td>\n",
              "      <td>18</td>\n",
              "      <td>1</td>\n",
              "      <td>2018</td>\n",
              "    </tr>\n",
              "    <tr>\n",
              "      <th>2</th>\n",
              "      <td>31.3</td>\n",
              "      <td>55.0</td>\n",
              "      <td>45.9</td>\n",
              "      <td>720.0</td>\n",
              "      <td>172.700000</td>\n",
              "      <td>7.7</td>\n",
              "      <td>1.0</td>\n",
              "      <td>no</td>\n",
              "      <td>30</td>\n",
              "      <td>8</td>\n",
              "      <td>19</td>\n",
              "      <td>1</td>\n",
              "      <td>2018</td>\n",
              "    </tr>\n",
              "  </tbody>\n",
              "</table>\n",
              "</div>"
            ],
            "text/plain": [
              "   factor1  factor2  factor3  factor4  ...  hour  day  month  year\n",
              "0     27.2     60.0     39.5    706.1  ...     8   18      1  2018\n",
              "1     26.2    101.0     37.4    736.2  ...    17   18      1  2018\n",
              "2     31.3     55.0     45.9    720.0  ...     8   19      1  2018\n",
              "\n",
              "[3 rows x 13 columns]"
            ]
          },
          "metadata": {
            "tags": []
          },
          "execution_count": 8
        }
      ]
    },
    {
      "cell_type": "code",
      "metadata": {
        "id": "lpnNRag-JEde"
      },
      "source": [
        "new_data['is_fault'] = new_data['fault_class']\r\n",
        "new_data = new_data.drop(['fault_class'], axis=1)"
      ],
      "execution_count": null,
      "outputs": []
    },
    {
      "cell_type": "code",
      "metadata": {
        "colab": {
          "base_uri": "https://localhost:8080/",
          "height": 106
        },
        "id": "Pmu2BcFYJZyF",
        "outputId": "157692be-ba43-40f9-f1f6-9a83f9dca907"
      },
      "source": [
        "new_data.head(2)"
      ],
      "execution_count": null,
      "outputs": [
        {
          "output_type": "execute_result",
          "data": {
            "text/html": [
              "<div>\n",
              "<style scoped>\n",
              "    .dataframe tbody tr th:only-of-type {\n",
              "        vertical-align: middle;\n",
              "    }\n",
              "\n",
              "    .dataframe tbody tr th {\n",
              "        vertical-align: top;\n",
              "    }\n",
              "\n",
              "    .dataframe thead th {\n",
              "        text-align: right;\n",
              "    }\n",
              "</style>\n",
              "<table border=\"1\" class=\"dataframe\">\n",
              "  <thead>\n",
              "    <tr style=\"text-align: right;\">\n",
              "      <th></th>\n",
              "      <th>factor1</th>\n",
              "      <th>factor2</th>\n",
              "      <th>factor3</th>\n",
              "      <th>factor4</th>\n",
              "      <th>factor5</th>\n",
              "      <th>factor6</th>\n",
              "      <th>factor7</th>\n",
              "      <th>minute</th>\n",
              "      <th>hour</th>\n",
              "      <th>day</th>\n",
              "      <th>month</th>\n",
              "      <th>year</th>\n",
              "      <th>is_fault</th>\n",
              "    </tr>\n",
              "  </thead>\n",
              "  <tbody>\n",
              "    <tr>\n",
              "      <th>0</th>\n",
              "      <td>27.2</td>\n",
              "      <td>60.0</td>\n",
              "      <td>39.5</td>\n",
              "      <td>706.1</td>\n",
              "      <td>172.800000</td>\n",
              "      <td>8.2</td>\n",
              "      <td>0.0</td>\n",
              "      <td>0</td>\n",
              "      <td>8</td>\n",
              "      <td>18</td>\n",
              "      <td>1</td>\n",
              "      <td>2018</td>\n",
              "      <td>no</td>\n",
              "    </tr>\n",
              "    <tr>\n",
              "      <th>1</th>\n",
              "      <td>26.2</td>\n",
              "      <td>101.0</td>\n",
              "      <td>37.4</td>\n",
              "      <td>736.2</td>\n",
              "      <td>169.633333</td>\n",
              "      <td>20.6</td>\n",
              "      <td>0.0</td>\n",
              "      <td>15</td>\n",
              "      <td>17</td>\n",
              "      <td>18</td>\n",
              "      <td>1</td>\n",
              "      <td>2018</td>\n",
              "      <td>no</td>\n",
              "    </tr>\n",
              "  </tbody>\n",
              "</table>\n",
              "</div>"
            ],
            "text/plain": [
              "   factor1  factor2  factor3  factor4  ...  day  month  year  is_fault\n",
              "0     27.2     60.0     39.5    706.1  ...   18      1  2018        no\n",
              "1     26.2    101.0     37.4    736.2  ...   18      1  2018        no\n",
              "\n",
              "[2 rows x 13 columns]"
            ]
          },
          "metadata": {
            "tags": []
          },
          "execution_count": 10
        }
      ]
    },
    {
      "cell_type": "code",
      "metadata": {
        "colab": {
          "base_uri": "https://localhost:8080/"
        },
        "id": "GxjG6hsfI4di",
        "outputId": "e097bcca-486f-44ec-b692-e80f26d00bd7"
      },
      "source": [
        "rf.fit(new_data.iloc[:, 0:-1], new_data.iloc[:, -1])\r\n",
        "rf.feature_importances_"
      ],
      "execution_count": null,
      "outputs": [
        {
          "output_type": "execute_result",
          "data": {
            "text/plain": [
              "array([4.36013173e-01, 7.75537341e-03, 3.51720363e-01, 1.94903432e-01,\n",
              "       2.87900779e-03, 1.80505649e-03, 8.12418606e-04, 3.58039246e-04,\n",
              "       2.40328774e-03, 6.08754397e-04, 5.12682421e-04, 2.28411297e-04])"
            ]
          },
          "metadata": {
            "tags": []
          },
          "execution_count": 38
        }
      ]
    },
    {
      "cell_type": "markdown",
      "metadata": {
        "id": "fFYQmERtJpuC"
      },
      "source": [
        "The new features were no good!\r\n",
        "\r\n",
        "-----------------------------------------------------------"
      ]
    },
    {
      "cell_type": "code",
      "metadata": {
        "colab": {
          "base_uri": "https://localhost:8080/",
          "height": 106
        },
        "id": "JXcRgLvpGdNV",
        "outputId": "ebefd75b-d66f-4666-d004-75cf40f4ad84"
      },
      "source": [
        "data.head(2)"
      ],
      "execution_count": 44,
      "outputs": [
        {
          "output_type": "execute_result",
          "data": {
            "text/html": [
              "<div>\n",
              "<style scoped>\n",
              "    .dataframe tbody tr th:only-of-type {\n",
              "        vertical-align: middle;\n",
              "    }\n",
              "\n",
              "    .dataframe tbody tr th {\n",
              "        vertical-align: top;\n",
              "    }\n",
              "\n",
              "    .dataframe thead th {\n",
              "        text-align: right;\n",
              "    }\n",
              "</style>\n",
              "<table border=\"1\" class=\"dataframe\">\n",
              "  <thead>\n",
              "    <tr style=\"text-align: right;\">\n",
              "      <th></th>\n",
              "      <th>date_time</th>\n",
              "      <th>device_id</th>\n",
              "      <th>factor1</th>\n",
              "      <th>factor2</th>\n",
              "      <th>factor3</th>\n",
              "      <th>factor4</th>\n",
              "      <th>factor5</th>\n",
              "      <th>factor6</th>\n",
              "      <th>factor7</th>\n",
              "      <th>fault_name</th>\n",
              "      <th>fault_class</th>\n",
              "      <th>class</th>\n",
              "    </tr>\n",
              "  </thead>\n",
              "  <tbody>\n",
              "    <tr>\n",
              "      <th>0</th>\n",
              "      <td>18-01-2018 08:00</td>\n",
              "      <td>1</td>\n",
              "      <td>27.2</td>\n",
              "      <td>60.0</td>\n",
              "      <td>39.5</td>\n",
              "      <td>706.1</td>\n",
              "      <td>172.800000</td>\n",
              "      <td>8.2</td>\n",
              "      <td>0.0</td>\n",
              "      <td>Inverter Status Alarm</td>\n",
              "      <td>no</td>\n",
              "      <td>0</td>\n",
              "    </tr>\n",
              "    <tr>\n",
              "      <th>1</th>\n",
              "      <td>18-01-2018 17:15</td>\n",
              "      <td>1</td>\n",
              "      <td>26.2</td>\n",
              "      <td>101.0</td>\n",
              "      <td>37.4</td>\n",
              "      <td>736.2</td>\n",
              "      <td>169.633333</td>\n",
              "      <td>20.6</td>\n",
              "      <td>0.0</td>\n",
              "      <td>Inverter Status Alarm</td>\n",
              "      <td>no</td>\n",
              "      <td>0</td>\n",
              "    </tr>\n",
              "  </tbody>\n",
              "</table>\n",
              "</div>"
            ],
            "text/plain": [
              "          date_time  device_id  ...  fault_class  class\n",
              "0  18-01-2018 08:00          1  ...           no      0\n",
              "1  18-01-2018 17:15          1  ...           no      0\n",
              "\n",
              "[2 rows x 12 columns]"
            ]
          },
          "metadata": {
            "tags": []
          },
          "execution_count": 44
        }
      ]
    },
    {
      "cell_type": "code",
      "metadata": {
        "colab": {
          "base_uri": "https://localhost:8080/",
          "height": 106
        },
        "id": "SchuAofHJ5If",
        "outputId": "d28f3bb1-5867-47ca-d354-a0d361ad0c04"
      },
      "source": [
        "#Create dataframe from selected features to create our base model and see score\r\n",
        "x = new_data_norm\r\n",
        "y = data['class']\r\n",
        "x.head(2)"
      ],
      "execution_count": 45,
      "outputs": [
        {
          "output_type": "execute_result",
          "data": {
            "text/html": [
              "<div>\n",
              "<style scoped>\n",
              "    .dataframe tbody tr th:only-of-type {\n",
              "        vertical-align: middle;\n",
              "    }\n",
              "\n",
              "    .dataframe tbody tr th {\n",
              "        vertical-align: top;\n",
              "    }\n",
              "\n",
              "    .dataframe thead th {\n",
              "        text-align: right;\n",
              "    }\n",
              "</style>\n",
              "<table border=\"1\" class=\"dataframe\">\n",
              "  <thead>\n",
              "    <tr style=\"text-align: right;\">\n",
              "      <th></th>\n",
              "      <th>factor1</th>\n",
              "      <th>factor2</th>\n",
              "      <th>factor3</th>\n",
              "      <th>factor4</th>\n",
              "      <th>factor5</th>\n",
              "      <th>factor6</th>\n",
              "      <th>factor7</th>\n",
              "    </tr>\n",
              "  </thead>\n",
              "  <tbody>\n",
              "    <tr>\n",
              "      <th>0</th>\n",
              "      <td>-0.273384</td>\n",
              "      <td>-0.432650</td>\n",
              "      <td>-0.295343</td>\n",
              "      <td>0.399215</td>\n",
              "      <td>0.202022</td>\n",
              "      <td>-1.327922</td>\n",
              "      <td>-1.21118</td>\n",
              "    </tr>\n",
              "    <tr>\n",
              "      <th>1</th>\n",
              "      <td>-0.283310</td>\n",
              "      <td>-0.245807</td>\n",
              "      <td>-0.308211</td>\n",
              "      <td>0.800724</td>\n",
              "      <td>-0.110524</td>\n",
              "      <td>-0.074149</td>\n",
              "      <td>-1.21118</td>\n",
              "    </tr>\n",
              "  </tbody>\n",
              "</table>\n",
              "</div>"
            ],
            "text/plain": [
              "    factor1   factor2   factor3   factor4   factor5   factor6  factor7\n",
              "0 -0.273384 -0.432650 -0.295343  0.399215  0.202022 -1.327922 -1.21118\n",
              "1 -0.283310 -0.245807 -0.308211  0.800724 -0.110524 -0.074149 -1.21118"
            ]
          },
          "metadata": {
            "tags": []
          },
          "execution_count": 45
        }
      ]
    },
    {
      "cell_type": "code",
      "metadata": {
        "colab": {
          "base_uri": "https://localhost:8080/"
        },
        "id": "sido1wGSGFuR",
        "outputId": "453af946-0398-49d8-d766-7b275cabb9d2"
      },
      "source": [
        "y.head(2)"
      ],
      "execution_count": 47,
      "outputs": [
        {
          "output_type": "execute_result",
          "data": {
            "text/plain": [
              "0    0\n",
              "1    0\n",
              "Name: class, dtype: int64"
            ]
          },
          "metadata": {
            "tags": []
          },
          "execution_count": 47
        }
      ]
    },
    {
      "cell_type": "code",
      "metadata": {
        "colab": {
          "base_uri": "https://localhost:8080/"
        },
        "id": "Cb_F8RGIJh5s",
        "outputId": "dec40282-f035-43c6-c7b1-036b3e219b20"
      },
      "source": [
        "np.unique(y)"
      ],
      "execution_count": 50,
      "outputs": [
        {
          "output_type": "execute_result",
          "data": {
            "text/plain": [
              "array([0, 1])"
            ]
          },
          "metadata": {
            "tags": []
          },
          "execution_count": 50
        }
      ]
    },
    {
      "cell_type": "code",
      "metadata": {
        "colab": {
          "base_uri": "https://localhost:8080/"
        },
        "id": "BA6JuLOfpwym",
        "outputId": "2bcac901-7f90-43e1-af7f-13905f625b46"
      },
      "source": [
        "#define model and kFold variable\r\n",
        "rf = RandomForestClassifier(n_estimators = 100, random_state= 1) #parameter tuning- find RIC for each parameter combo\r\n",
        "\r\n",
        "kf = KFold(n_splits = 80, random_state=1)"
      ],
      "execution_count": 51,
      "outputs": [
        {
          "output_type": "stream",
          "text": [
            "/usr/local/lib/python3.6/dist-packages/sklearn/model_selection/_split.py:296: FutureWarning: Setting a random_state has no effect since shuffle is False. This will raise an error in 0.24. You should leave random_state to its default (None), or set shuffle=True.\n",
            "  FutureWarning\n"
          ],
          "name": "stderr"
        }
      ]
    },
    {
      "cell_type": "code",
      "metadata": {
        "id": "Zb0QhatcXwSe"
      },
      "source": [
        "\r\n",
        "scores = cross_val_score(rf, x, y.label, scoring='f1', cv=kf)  #using cross validation to make sure the training is performed on all of the data\r\n",
        "                                                               #f1score is used to balance precision & recall\r\n",
        "print(scores.mean()) #F1 = 89% - 50 KFolds\r\n",
        "                    # F1 = 82%  - 80 KFolds"
      ],
      "execution_count": null,
      "outputs": []
    },
    {
      "cell_type": "markdown",
      "metadata": {
        "id": "1mUCZm9wqy8q"
      },
      "source": [
        "For **AUC** it doesn't even work for 80 k folds as only 1 class gets sampled sometimes and there can not be a score with only 1 class.\r\n",
        "\r\n",
        "We will need to address the imbalanced class problem after all.\r\n"
      ]
    },
    {
      "cell_type": "code",
      "metadata": {
        "colab": {
          "base_uri": "https://localhost:8080/"
        },
        "id": "HKAbENGlta2c",
        "outputId": "229f3a4e-2835-4e8b-910a-bb4e6edd9637"
      },
      "source": [
        "#weighted classes in Random Forest\r\n",
        "rf = RandomForestClassifier(n_estimators = 100, random_state= 1, class_weight={0:1, 1:5}) #parameter tuning- find RIC for each parameter combo\r\n",
        "kf = KFold(n_splits = 15, random_state=0)\r\n",
        "\r\n",
        "scores1 = cross_val_score(rf, x, y.label, scoring='roc_auc', cv=kf)  \r\n",
        "                                     \r\n",
        "print(scores1.mean()) #AUC = 100%"
      ],
      "execution_count": null,
      "outputs": [
        {
          "output_type": "stream",
          "text": [
            "/usr/local/lib/python3.6/dist-packages/sklearn/model_selection/_split.py:296: FutureWarning: Setting a random_state has no effect since shuffle is False. This will raise an error in 0.24. You should leave random_state to its default (None), or set shuffle=True.\n",
            "  FutureWarning\n"
          ],
          "name": "stderr"
        },
        {
          "output_type": "stream",
          "text": [
            "1.0\n"
          ],
          "name": "stdout"
        }
      ]
    },
    {
      "cell_type": "markdown",
      "metadata": {
        "id": "hJwJC0tsud8J"
      },
      "source": [
        "Potentially **Misleading score** . Need more analysis."
      ]
    },
    {
      "cell_type": "markdown",
      "metadata": {
        "id": "8vdSFJ7ir59i"
      },
      "source": [
        "*************Weighted SVM model*****************"
      ]
    },
    {
      "cell_type": "code",
      "metadata": {
        "colab": {
          "base_uri": "https://localhost:8080/"
        },
        "id": "qIg-nkDFr5G5",
        "outputId": "49f4b1f7-6fb7-42b0-f340-686dbca13d98"
      },
      "source": [
        "\r\n",
        "svm = SVC(gamma = 'scale', class_weight =  {0:1, 1:5}) #parameter tuning\r\n",
        "kf = KFold(n_splits = 15, random_state=0)\r\n",
        "\r\n",
        "scoressvm = cross_val_score(svm, x, y.label, scoring='roc_auc', cv=kf)  #using cross validation to make sure the training is performed on all of the data\r\n",
        "  \r\n",
        "print(scoressvm.mean()) #AUC = 99.89%\r\n"
      ],
      "execution_count": null,
      "outputs": [
        {
          "output_type": "stream",
          "text": [
            "/usr/local/lib/python3.6/dist-packages/sklearn/model_selection/_split.py:296: FutureWarning: Setting a random_state has no effect since shuffle is False. This will raise an error in 0.24. You should leave random_state to its default (None), or set shuffle=True.\n",
            "  FutureWarning\n"
          ],
          "name": "stderr"
        },
        {
          "output_type": "stream",
          "text": [
            "0.9989963136310703\n"
          ],
          "name": "stdout"
        }
      ]
    },
    {
      "cell_type": "markdown",
      "metadata": {
        "id": "nUieizepWUwc"
      },
      "source": [
        "Okay, close to Random Forest!\r\n",
        "\r\n",
        "But still **can not** yet be accepted."
      ]
    },
    {
      "cell_type": "markdown",
      "metadata": {
        "id": "Rhjm-QNbZIi5"
      },
      "source": [
        "*************OverSampling & UnderSampling ************"
      ]
    },
    {
      "cell_type": "code",
      "metadata": {
        "colab": {
          "base_uri": "https://localhost:8080/"
        },
        "id": "Z0TawijrgnbK",
        "outputId": "fdf07627-103f-439e-ac1a-2187448c4f04"
      },
      "source": [
        "!pip install imblearn"
      ],
      "execution_count": 52,
      "outputs": [
        {
          "output_type": "stream",
          "text": [
            "Requirement already satisfied: imblearn in /usr/local/lib/python3.6/dist-packages (0.0)\n",
            "Requirement already satisfied: imbalanced-learn in /usr/local/lib/python3.6/dist-packages (from imblearn) (0.4.3)\n",
            "Requirement already satisfied: scikit-learn>=0.20 in /usr/local/lib/python3.6/dist-packages (from imbalanced-learn->imblearn) (0.22.2.post1)\n",
            "Requirement already satisfied: scipy>=0.13.3 in /usr/local/lib/python3.6/dist-packages (from imbalanced-learn->imblearn) (1.4.1)\n",
            "Requirement already satisfied: numpy>=1.8.2 in /usr/local/lib/python3.6/dist-packages (from imbalanced-learn->imblearn) (1.19.5)\n",
            "Requirement already satisfied: joblib>=0.11 in /usr/local/lib/python3.6/dist-packages (from scikit-learn>=0.20->imbalanced-learn->imblearn) (1.0.0)\n"
          ],
          "name": "stdout"
        }
      ]
    },
    {
      "cell_type": "code",
      "metadata": {
        "id": "sTqEOngUXTWu",
        "colab": {
          "base_uri": "https://localhost:8080/"
        },
        "outputId": "6d777bbe-efa3-4093-a4c5-10ed328d82bf"
      },
      "source": [
        "from imblearn.combine import SMOTETomek\r\n",
        "from imblearn.under_sampling import TomekLinks\r\n",
        "sampling = SMOTETomek(tomek=TomekLinks(sampling_strategy='majority')) #parameter"
      ],
      "execution_count": 53,
      "outputs": [
        {
          "output_type": "stream",
          "text": [
            "/usr/local/lib/python3.6/dist-packages/sklearn/externals/six.py:31: FutureWarning: The module is deprecated in version 0.21 and will be removed in version 0.23 since we've dropped support for Python 2.7. Please rely on the official version of six (https://pypi.org/project/six/).\n",
            "  \"(https://pypi.org/project/six/).\", FutureWarning)\n",
            "/usr/local/lib/python3.6/dist-packages/sklearn/utils/deprecation.py:144: FutureWarning: The sklearn.neighbors.base module is  deprecated in version 0.22 and will be removed in version 0.24. The corresponding classes / functions should instead be imported from sklearn.neighbors. Anything that cannot be imported from sklearn.neighbors is now part of the private API.\n",
            "  warnings.warn(message, FutureWarning)\n"
          ],
          "name": "stderr"
        }
      ]
    },
    {
      "cell_type": "code",
      "metadata": {
        "colab": {
          "base_uri": "https://localhost:8080/"
        },
        "id": "MtYiPclAmKlX",
        "outputId": "40ea6c0d-7f6e-4b8b-ed11-d88e10c00807"
      },
      "source": [
        "#apply sampling method\r\n",
        "X, Y= sampling.fit_resample(x, y)"
      ],
      "execution_count": 54,
      "outputs": [
        {
          "output_type": "stream",
          "text": [
            "/usr/local/lib/python3.6/dist-packages/sklearn/utils/deprecation.py:87: FutureWarning: Function safe_indexing is deprecated; safe_indexing is deprecated in version 0.22 and will be removed in version 0.24.\n",
            "  warnings.warn(msg, category=FutureWarning)\n",
            "/usr/local/lib/python3.6/dist-packages/sklearn/utils/deprecation.py:87: FutureWarning: Function safe_indexing is deprecated; safe_indexing is deprecated in version 0.22 and will be removed in version 0.24.\n",
            "  warnings.warn(msg, category=FutureWarning)\n"
          ],
          "name": "stderr"
        }
      ]
    },
    {
      "cell_type": "code",
      "metadata": {
        "colab": {
          "base_uri": "https://localhost:8080/"
        },
        "id": "p5NY1-7xnXzW",
        "outputId": "da62049b-c7b9-4141-ee62-dd8b95b0aebe"
      },
      "source": [
        "import collections\r\n",
        "collections.Counter(Y)  #see the sizes of the two classes"
      ],
      "execution_count": 55,
      "outputs": [
        {
          "output_type": "execute_result",
          "data": {
            "text/plain": [
              "Counter({0: 7812, 1: 7816})"
            ]
          },
          "metadata": {
            "tags": []
          },
          "execution_count": 55
        }
      ]
    },
    {
      "cell_type": "code",
      "metadata": {
        "id": "FkQ4-y68ob41"
      },
      "source": [
        "#split the resampled data - 80-20\r\n",
        "from sklearn.model_selection import train_test_split\r\n",
        "train_x, test_x, train_y, test_y = train_test_split(X, Y, train_size=0.8, random_state = 1)"
      ],
      "execution_count": 56,
      "outputs": []
    },
    {
      "cell_type": "code",
      "metadata": {
        "colab": {
          "base_uri": "https://localhost:8080/"
        },
        "id": "TTXQmm3Lpvd8",
        "outputId": "28d9c6ad-0188-4b00-81d7-61b6a9cdd513"
      },
      "source": [
        "test_x.shape"
      ],
      "execution_count": 57,
      "outputs": [
        {
          "output_type": "execute_result",
          "data": {
            "text/plain": [
              "(3126, 7)"
            ]
          },
          "metadata": {
            "tags": []
          },
          "execution_count": 57
        }
      ]
    },
    {
      "cell_type": "code",
      "metadata": {
        "colab": {
          "base_uri": "https://localhost:8080/"
        },
        "id": "dtoWzeVPUEI4",
        "outputId": "005b9fdc-9ed2-4ff9-b564-ef4328a43e46"
      },
      "source": [
        "test_y.shape"
      ],
      "execution_count": 98,
      "outputs": [
        {
          "output_type": "execute_result",
          "data": {
            "text/plain": [
              "(3126,)"
            ]
          },
          "metadata": {
            "tags": []
          },
          "execution_count": 98
        }
      ]
    },
    {
      "cell_type": "code",
      "metadata": {
        "id": "VJHI1HdMn3kn"
      },
      "source": [
        "#use SVM model again with proper regularization for potential overfit (as seen in previous svm model without resampling)\r\n",
        "#try different c values\r\n",
        "auc_scores = []\r\n",
        "for cc in [0.001, 0.005, 0.01, 0.05, 0.1, 1]:\r\n",
        "  model = SVC(gamma = 'scale', C= cc)\r\n",
        "  model.fit(train_x, train_y)\r\n",
        "  #print(\"F1 score : \", f1_score(test_y, model.predict(test_x))) #99.5%\r\n",
        "  auc = roc_auc_score(test_y, model.predict(test_x)) \r\n",
        "  auc_scores.extend([auc])\r\n"
      ],
      "execution_count": 94,
      "outputs": []
    },
    {
      "cell_type": "code",
      "metadata": {
        "colab": {
          "base_uri": "https://localhost:8080/"
        },
        "id": "14P4q6lwM7-O",
        "outputId": "2c24cecb-58d9-493a-d0f4-038189dc8528"
      },
      "source": [
        "auc_scores"
      ],
      "execution_count": 95,
      "outputs": [
        {
          "output_type": "execute_result",
          "data": {
            "text/plain": [
              "[0.9400149987576083,\n",
              " 0.9543720928138186,\n",
              " 0.9617730218034615,\n",
              " 0.9791628204377721,\n",
              " 0.9855896898278214,\n",
              " 0.9971351308645695]"
            ]
          },
          "metadata": {
            "tags": []
          },
          "execution_count": 95
        }
      ]
    },
    {
      "cell_type": "markdown",
      "metadata": {
        "id": "ZduzJML0QU0e"
      },
      "source": [
        "Even with the strictest regularization, C= 0.001, auc = 0.94 "
      ]
    },
    {
      "cell_type": "code",
      "metadata": {
        "colab": {
          "base_uri": "https://localhost:8080/",
          "height": 296
        },
        "id": "7Dhr101LRHl6",
        "outputId": "a65e8118-db7b-4c18-cc02-9f3d5cd2e8b6"
      },
      "source": [
        "#roc curve\r\n",
        "\r\n",
        "model = SVC(gamma = 'scale', C= 1, probability= True)\r\n",
        "model.fit(train_x, train_y)\r\n",
        "#print(\"F1 score : \", f1_score(test_y, model.predict(test_x))) #99.5%\r\n",
        "fpr, tpr, _= roc_curve(test_y, model.predict_proba(test_x)[:,1]) \r\n",
        "\r\n",
        "plt.plot(fpr, tpr)\r\n",
        "plt.xlabel('False Positive Rate')\r\n",
        "plt.ylabel('True Positive Rate')  \r\n",
        "plt.show()"
      ],
      "execution_count": 151,
      "outputs": [
        {
          "output_type": "stream",
          "text": [
            "No handles with labels found to put in legend.\n"
          ],
          "name": "stderr"
        },
        {
          "output_type": "display_data",
          "data": {
            "image/png": "[encoded data removed]",
            "text/plain": [
              "<Figure size 432x288 with 1 Axes>"
            ]
          },
          "metadata": {
            "tags": [],
            "needs_background": "light"
          }
        }
      ]
    },
    {
      "cell_type": "markdown",
      "metadata": {
        "id": "oy-YRDsQWjnF"
      },
      "source": [
        "The ROC curve shows the model performance is good overall."
      ]
    },
    {
      "cell_type": "code",
      "metadata": {
        "colab": {
          "base_uri": "https://localhost:8080/"
        },
        "id": "QsM5BTifj_c2",
        "outputId": "3a01317b-046d-44be-b47b-690be78d9d8e"
      },
      "source": [
        "#confusion matrix\r\n",
        "confusion_matrix(test_y, model.predict(test_x))"
      ],
      "execution_count": 152,
      "outputs": [
        {
          "output_type": "execute_result",
          "data": {
            "text/plain": [
              "array([[1565,    8],\n",
              "       [   1, 1552]])"
            ]
          },
          "metadata": {
            "tags": []
          },
          "execution_count": 152
        }
      ]
    },
    {
      "cell_type": "markdown",
      "metadata": {
        "id": "BDvU8WzBnwC7"
      },
      "source": [
        "FN=1, FP = 8"
      ]
    },
    {
      "cell_type": "code",
      "metadata": {
        "colab": {
          "base_uri": "https://localhost:8080/",
          "height": 279
        },
        "id": "g7e59I3mkKWG",
        "outputId": "db3b7014-6d46-42b3-847f-13e268f18953"
      },
      "source": [
        "#Precision vs recall curve\r\n",
        "precision, recall, _ = precision_recall_curve(test_y, model.predict_proba(test_x)[:,1])\r\n",
        "plt.ylim(0.989, 1.001)  #the scale is important to visualize it correctly\r\n",
        "plt.plot(recall, precision)\r\n",
        "plt.xlabel('recall')\r\n",
        "plt.ylabel('precision')\r\n",
        "plt.show()"
      ],
      "execution_count": 148,
      "outputs": [
        {
          "output_type": "display_data",
          "data": {
            "image/png": "[encoded data removed]",
            "text/plain": [
              "<Figure size 432x288 with 1 Axes>"
            ]
          },
          "metadata": {
            "tags": [],
            "needs_background": "light"
          }
        }
      ]
    },
    {
      "cell_type": "markdown",
      "metadata": {
        "id": "Krmr2idDqYrG"
      },
      "source": [
        "So it is officially 0.99 auc score with SVM model(C=1)."
      ]
    },
    {
      "cell_type": "markdown",
      "metadata": {
        "id": "IykSdxH6W0V7"
      },
      "source": [
        "#--------------------------- XXXXXXXXXXX -----------------------------------------------"
      ]
    }
  ]
}